{
  "nbformat": 4,
  "nbformat_minor": 0,
  "metadata": {
    "colab": {
      "name": "classificacao_roupas_p2.ipynb",
      "provenance": [],
      "collapsed_sections": [],
      "authorship_tag": "ABX9TyNk/YgohmtC22ckcAmLhaXs",
      "include_colab_link": true
    },
    "kernelspec": {
      "name": "python3",
      "display_name": "Python 3"
    },
    "language_info": {
      "name": "python"
    }
  },
  "cells": [
    {
      "cell_type": "markdown",
      "metadata": {
        "id": "view-in-github",
        "colab_type": "text"
      },
      "source": [
        "<a href=\"https://colab.research.google.com/github/Maysk/data_science_alura/blob/main/deep_learning_parte_2/classificacao_roupas_2.ipynb\" target=\"_parent\"><img src=\"https://colab.research.google.com/assets/colab-badge.svg\" alt=\"Open In Colab\"/></a>"
      ]
    },
    {
      "cell_type": "markdown",
      "source": [
        "#Imports\n"
      ],
      "metadata": {
        "id": "_asaMSJf-P2z"
      }
    },
    {
      "cell_type": "code",
      "source": [
        "import tensorflow\n",
        "from tensorflow import keras \n",
        "import numpy as np\n",
        "import matplotlib.pyplot as plt\n"
      ],
      "metadata": {
        "id": "TmDmEErLzvKq"
      },
      "execution_count": 1,
      "outputs": []
    },
    {
      "cell_type": "markdown",
      "source": [
        "#Carregar Dataset"
      ],
      "metadata": {
        "id": "RI3qxjMy-OHw"
      }
    },
    {
      "cell_type": "code",
      "execution_count": 2,
      "metadata": {
        "id": "RsHEcqHyzfs0"
      },
      "outputs": [],
      "source": [
        "dataset = keras.datasets.fashion_mnist"
      ]
    },
    {
      "cell_type": "markdown",
      "source": [
        "# Explorar os Dados"
      ],
      "metadata": {
        "id": "tZ-Xssew-K-V"
      }
    },
    {
      "cell_type": "code",
      "source": [
        "((imagens_treino, id_treino), (imagens_teste, id_teste)) = dataset.load_data();"
      ],
      "metadata": {
        "id": "OwVq1EdFztQd"
      },
      "execution_count": 3,
      "outputs": []
    },
    {
      "cell_type": "code",
      "source": [
        "nomes_de_classificacoes = [\"T-shirt/top\",\"Trouser\",\"Pullover\",\"Dress\",\"Coat\",\"Sandal\",\"Shirt\",\"Sneaker\",\"Bag\",\"Ankle boot\"]\n",
        "\n",
        "numero_de_classificacoes = len(np.unique(id_treino))"
      ],
      "metadata": {
        "id": "L_Y6S4pn0CM7"
      },
      "execution_count": 4,
      "outputs": []
    },
    {
      "cell_type": "markdown",
      "source": [
        "#Exibir os dados"
      ],
      "metadata": {
        "id": "yo1nhmvR-WWc"
      }
    },
    {
      "cell_type": "code",
      "source": [
        "# for imagem in range(10):\n",
        "#   plt.subplot(2, 5, imagem+1)\n",
        "#   plt.imshow(imagens_treino[imagem])\n",
        "#   plt.title(nomes_de_classificacoes[id_treino[imagem]])\n",
        "\n",
        "plt.imshow(imagens_treino[0])\n",
        "plt.colorbar()"
      ],
      "metadata": {
        "colab": {
          "base_uri": "https://localhost:8080/",
          "height": 283
        },
        "id": "BiUdREXI0Hq3",
        "outputId": "d8711904-f6d3-4ce0-b62a-fff12c3da433"
      },
      "execution_count": 5,
      "outputs": [
        {
          "output_type": "execute_result",
          "data": {
            "text/plain": [
              "<matplotlib.colorbar.Colorbar at 0x7ffa25c1f7d0>"
            ]
          },
          "metadata": {},
          "execution_count": 5
        },
        {
          "output_type": "display_data",
          "data": {
            "text/plain": [
              "<Figure size 432x288 with 2 Axes>"
            ],
            "image/png": "[encoded data removed]"
          },
          "metadata": {
            "needs_background": "light"
          }
        }
      ]
    },
    {
      "cell_type": "markdown",
      "source": [
        "# Modelo\n",
        "- Criando, compilando e treinando o modelo\n",
        "- Modelo foi normalizado e uma camada dropout foi utilizada (0.2)"
      ],
      "metadata": {
        "id": "wr_w0hkMEJDg"
      }
    },
    {
      "cell_type": "code",
      "source": [
        "#normalizacao\n",
        "imagens_treino_modificada = imagens_treino / float(255)\n",
        "\n",
        "#entrada\n",
        "layer_0 = keras.layers.Flatten(input_shape=(28,28))\n",
        "\n",
        "#processamento\n",
        "layer_hidden = [\n",
        "  keras.layers.Dense(16, activation=tensorflow.nn.relu),\n",
        "  keras.layers.Dense(32, activation=tensorflow.nn.relu),\n",
        "  keras.layers.Dropout(0.2),\n",
        "  keras.layers.Dense(16, activation=tensorflow.nn.relu),\n",
        "]\n",
        "\n",
        "#saida\n",
        "layer_n = keras.layers.Dense(10, activation=tensorflow.nn.softmax)\n",
        "\n",
        "#Modelo com duas camadas\n",
        "modelo = keras.Sequential([layer_0, *layer_hidden, layer_n])\n",
        "\n",
        "\n",
        "modelo.compile(optimizer='adam', loss='sparse_categorical_crossentropy', metrics=['accuracy',])"
      ],
      "metadata": {
        "id": "8r5LZ4xI0Ypm"
      },
      "execution_count": 6,
      "outputs": []
    },
    {
      "cell_type": "code",
      "source": [
        "modelo.summary()"
      ],
      "metadata": {
        "colab": {
          "base_uri": "https://localhost:8080/"
        },
        "id": "9AkA_3QPfVq8",
        "outputId": "63d5354e-7f05-48d5-d83f-b6feaac66853"
      },
      "execution_count": 7,
      "outputs": [
        {
          "output_type": "stream",
          "name": "stdout",
          "text": [
            "Model: \"sequential\"\n",
            "_________________________________________________________________\n",
            " Layer (type)                Output Shape              Param #   \n",
            "=================================================================\n",
            " flatten (Flatten)           (None, 784)               0         \n",
            "                                                                 \n",
            " dense (Dense)               (None, 16)                12560     \n",
            "                                                                 \n",
            " dense_1 (Dense)             (None, 32)                544       \n",
            "                                                                 \n",
            " dropout (Dropout)           (None, 32)                0         \n",
            "                                                                 \n",
            " dense_2 (Dense)             (None, 16)                528       \n",
            "                                                                 \n",
            " dense_3 (Dense)             (None, 10)                170       \n",
            "                                                                 \n",
            "=================================================================\n",
            "Total params: 13,802\n",
            "Trainable params: 13,802\n",
            "Non-trainable params: 0\n",
            "_________________________________________________________________\n"
          ]
        }
      ]
    },
    {
      "cell_type": "code",
      "source": [
        "historico = modelo.fit(imagens_treino_modificada, id_treino, verbose=1, epochs=5, steps_per_epoch=3000, validation_split=0.2)"
      ],
      "metadata": {
        "colab": {
          "base_uri": "https://localhost:8080/"
        },
        "id": "6PgyjxSbFvNI",
        "outputId": "8eaf80b1-6534-46f4-d63a-53b1c859b6b1"
      },
      "execution_count": 8,
      "outputs": [
        {
          "output_type": "stream",
          "name": "stdout",
          "text": [
            "Epoch 1/5\n",
            "3000/3000 [==============================] - 13s 4ms/step - loss: 0.6898 - accuracy: 0.7533 - val_loss: 0.4667 - val_accuracy: 0.8381\n",
            "Epoch 2/5\n",
            "3000/3000 [==============================] - 6s 2ms/step - loss: 0.4848 - accuracy: 0.8289 - val_loss: 0.4207 - val_accuracy: 0.8453\n",
            "Epoch 3/5\n",
            "3000/3000 [==============================] - 6s 2ms/step - loss: 0.4418 - accuracy: 0.8431 - val_loss: 0.4152 - val_accuracy: 0.8497\n",
            "Epoch 4/5\n",
            "3000/3000 [==============================] - 6s 2ms/step - loss: 0.4205 - accuracy: 0.8498 - val_loss: 0.3968 - val_accuracy: 0.8587\n",
            "Epoch 5/5\n",
            "3000/3000 [==============================] - 6s 2ms/step - loss: 0.4054 - accuracy: 0.8563 - val_loss: 0.4036 - val_accuracy: 0.8551\n"
          ]
        }
      ]
    },
    {
      "cell_type": "markdown",
      "source": [
        "##Visualizando as acurácias de treino e validação por época"
      ],
      "metadata": {
        "id": "ZXrEFUF3eHtc"
      }
    },
    {
      "cell_type": "code",
      "source": [
        "plt.plot(historico.history['accuracy'])\n",
        "plt.plot(historico.history['val_accuracy'])\n",
        "plt.title(\"Acuracia por épocas\")\n",
        "plt.xlabel(\"Épocas\")\n",
        "plt.ylabel(\"Acuracia\")\n",
        "plt.legend([\"treino\",\"avaliação\"])"
      ],
      "metadata": {
        "colab": {
          "base_uri": "https://localhost:8080/",
          "height": 315
        },
        "id": "HzGXI-YgGDGW",
        "outputId": "7aef1d73-22e9-49f4-df9a-4f90c9227651"
      },
      "execution_count": 9,
      "outputs": [
        {
          "output_type": "execute_result",
          "data": {
            "text/plain": [
              "<matplotlib.legend.Legend at 0x7ffa1fc59c90>"
            ]
          },
          "metadata": {},
          "execution_count": 9
        },
        {
          "output_type": "display_data",
          "data": {
            "text/plain": [
              "<Figure size 432x288 with 1 Axes>"
            ],
            "image/png": "[encoded data removed]"
          },
          "metadata": {
            "needs_background": "light"
          }
        }
      ]
    },
    {
      "cell_type": "markdown",
      "source": [
        "##Visualizando as perdas de treino e validação por época"
      ],
      "metadata": {
        "id": "b7E9uklleRS6"
      }
    },
    {
      "cell_type": "code",
      "source": [
        "plt.plot(historico.history['loss'])\n",
        "plt.plot(historico.history['val_loss'])\n",
        "plt.title(\"Perda por épocas\")\n",
        "plt.xlabel(\"Épocas\")\n",
        "plt.ylabel(\"Perda\")\n",
        "plt.legend([\"treino\",\"avaliação\"])"
      ],
      "metadata": {
        "colab": {
          "base_uri": "https://localhost:8080/",
          "height": 315
        },
        "id": "SwHXYpLRIpFo",
        "outputId": "dbeff06a-aa7c-467c-a6da-bc9e41017564"
      },
      "execution_count": 10,
      "outputs": [
        {
          "output_type": "execute_result",
          "data": {
            "text/plain": [
              "<matplotlib.legend.Legend at 0x7ffa213ccfd0>"
            ]
          },
          "metadata": {},
          "execution_count": 10
        },
        {
          "output_type": "display_data",
          "data": {
            "text/plain": [
              "<Figure size 432x288 with 1 Axes>"
            ],
            "image/png": "[encoded data removed]"
          },
          "metadata": {
            "needs_background": "light"
          }
        }
      ]
    },
    {
      "cell_type": "markdown",
      "source": [
        "##Salvando e carregando o modelo treinado"
      ],
      "metadata": {
        "id": "qKxcBmvUd7pp"
      }
    },
    {
      "cell_type": "code",
      "source": [
        "modelo.save('modelo.h5')\n",
        "modelo_salvo = tensorflow.keras.models.load_model('modelo.h5')"
      ],
      "metadata": {
        "id": "Xv0TgGbZbEv-"
      },
      "execution_count": 11,
      "outputs": []
    },
    {
      "cell_type": "markdown",
      "source": [
        "##Avaliando o modelo"
      ],
      "metadata": {
        "id": "EVPF4kHyeWV5"
      }
    },
    {
      "cell_type": "code",
      "source": [
        "perda_teste, acuracia_teste = modelo.evaluate(imagens_teste, id_teste, steps=50)"
      ],
      "metadata": {
        "colab": {
          "base_uri": "https://localhost:8080/"
        },
        "id": "wcHinVtOeXsI",
        "outputId": "6e8d123b-a364-4aca-9133-13b3be67c4c9"
      },
      "execution_count": 12,
      "outputs": [
        {
          "output_type": "stream",
          "name": "stdout",
          "text": [
            "50/50 [==============================] - 0s 3ms/step - loss: 74.7617 - accuracy: 0.7791\n"
          ]
        }
      ]
    },
    {
      "cell_type": "code",
      "source": [
        "perda_teste, acuracia_teste = modelo_salvo.evaluate(imagens_teste, id_teste, steps=50)"
      ],
      "metadata": {
        "colab": {
          "base_uri": "https://localhost:8080/"
        },
        "id": "aDcfZXJSbq34",
        "outputId": "d4eded70-eb80-4f55-d027-8755645b64a0"
      },
      "execution_count": 13,
      "outputs": [
        {
          "output_type": "stream",
          "name": "stdout",
          "text": [
            "50/50 [==============================] - 0s 2ms/step - loss: 74.7617 - accuracy: 0.7791\n"
          ]
        }
      ]
    },
    {
      "cell_type": "markdown",
      "source": [
        "# Entendendo o que foi feito"
      ],
      "metadata": {
        "id": "1E01k_vAgAel"
      }
    },
    {
      "cell_type": "code",
      "source": [
        "modelo.summary()"
      ],
      "metadata": {
        "colab": {
          "base_uri": "https://localhost:8080/"
        },
        "id": "RPU8Ql8_T7tb",
        "outputId": "278cc64a-420f-4d62-d9dd-3d57279cd472"
      },
      "execution_count": 14,
      "outputs": [
        {
          "output_type": "stream",
          "name": "stdout",
          "text": [
            "Model: \"sequential\"\n",
            "_________________________________________________________________\n",
            " Layer (type)                Output Shape              Param #   \n",
            "=================================================================\n",
            " flatten (Flatten)           (None, 784)               0         \n",
            "                                                                 \n",
            " dense (Dense)               (None, 16)                12560     \n",
            "                                                                 \n",
            " dense_1 (Dense)             (None, 32)                544       \n",
            "                                                                 \n",
            " dropout (Dropout)           (None, 32)                0         \n",
            "                                                                 \n",
            " dense_2 (Dense)             (None, 16)                528       \n",
            "                                                                 \n",
            " dense_3 (Dense)             (None, 10)                170       \n",
            "                                                                 \n",
            "=================================================================\n",
            "Total params: 13,802\n",
            "Trainable params: 13,802\n",
            "Non-trainable params: 0\n",
            "_________________________________________________________________\n"
          ]
        }
      ]
    },
    {
      "cell_type": "markdown",
      "source": [
        "---\n",
        "**O valor no params não é magia. Ele é output_size * (input_size + 1) == number_parameters.**\n",
        "\n",
        "**Cada camada tem um bias (Por isso o input_size+1).**\n",
        "\n",
        "Link: \n",
        "- https://stackoverflow.com/questions/2480650/what-is-the-role-of-the-bias-in-neural-networks\n",
        "- https://stackoverflow.com/questions/36946671/keras-model-summary-result-understanding-the-of-parameters\n",
        "---"
      ],
      "metadata": {
        "id": "M2MQrVR7f5QT"
      }
    },
    {
      "cell_type": "code",
      "source": [
        "pesos_da_camada_dense_0 = modelo.layers[1].get_weights()[0]\n",
        "vieses_da_camada_dense_0 = modelo.layers[1].get_weights()[1]\n",
        "print(f\"Shape pesos:{pesos_da_camada_dense_0.shape}\")\n",
        "print(f\"Shape vieses:{vieses_da_camada_dense_0.shape}\")"
      ],
      "metadata": {
        "colab": {
          "base_uri": "https://localhost:8080/"
        },
        "outputId": "def3c3a7-8e08-4f15-8e01-6831e7060d30",
        "id": "CCFW9dORf5Qb"
      },
      "execution_count": 15,
      "outputs": [
        {
          "output_type": "stream",
          "name": "stdout",
          "text": [
            "Shape pesos:(784, 16)\n",
            "Shape vieses:(16,)\n"
          ]
        }
      ]
    },
    {
      "cell_type": "code",
      "source": [
        "'''\n",
        " # Pode matar a rede  \n",
        " pesos_da_camada_dense_0_zerados = np.zeros(pesos_da_camada_dense_0.shape)\n",
        " vieses_da_camada_dense_0_zerados = np.zeros(vieses_da_camada_dense_0.shape)\n",
        " modelo.layers[1].set_weights([pesos_da_camada_dense_0_zerados, vieses_da_camada_dense_0_zerados ])\n",
        "'''\n",
        "\n",
        "# Pode ocorrer vanish gradients \n",
        "pesos_da_camada_dense_0_aleatorios = np.random.rand(*pesos_da_camada_dense_0.shape)\n",
        "vieses_da_camada_dense_0_zerados = np.zeros(vieses_da_camada_dense_0.shape)\n",
        "modelo.layers[1].set_weights([pesos_da_camada_dense_0_aleatorios, vieses_da_camada_dense_0_zerados])\n"
      ],
      "metadata": {
        "id": "f7hmxm-rf5Qh"
      },
      "execution_count": 27,
      "outputs": []
    },
    {
      "cell_type": "code",
      "source": [
        "#normalizacao\n",
        "imagens_treino_modificada = imagens_treino / float(255)\n",
        "\n",
        "#entrada\n",
        "layer_0 = keras.layers.Flatten(input_shape=(28,28))\n",
        "\n",
        "#processamento\n",
        "layer_hidden = [\n",
        "  keras.layers.Dense(16, activation=tensorflow.nn.relu),\n",
        "  keras.layers.Dense(32, activation=tensorflow.nn.relu),\n",
        "  keras.layers.Dropout(0.2),\n",
        "  keras.layers.Dense(16, activation=tensorflow.nn.relu),\n",
        "]\n",
        "\n",
        "#saida\n",
        "layer_n = keras.layers.Dense(10, activation=tensorflow.nn.softmax)\n",
        "\n",
        "#Modelo com duas camadas\n",
        "modelo = keras.Sequential([layer_0, *layer_hidden, layer_n])\n",
        "\n",
        "\n",
        "modelo.compile(optimizer='adam', loss='sparse_categorical_crossentropy', metrics=['accuracy',])"
      ],
      "metadata": {
        "id": "DxdTJthbgSyu"
      },
      "execution_count": 28,
      "outputs": []
    },
    {
      "cell_type": "code",
      "source": [
        "historico = modelo.fit(imagens_treino_modificada, id_treino, verbose=1, epochs=5, steps_per_epoch=3000, validation_split=0.2)"
      ],
      "metadata": {
        "colab": {
          "base_uri": "https://localhost:8080/"
        },
        "outputId": "1616f7aa-3dc3-47cf-cb40-1c5caa6d54d2",
        "id": "jzw_V8OagYfi"
      },
      "execution_count": 29,
      "outputs": [
        {
          "output_type": "stream",
          "name": "stdout",
          "text": [
            "Epoch 1/5\n",
            "3000/3000 [==============================] - 7s 2ms/step - loss: 0.7127 - accuracy: 0.7439 - val_loss: 0.4923 - val_accuracy: 0.8242\n",
            "Epoch 2/5\n",
            "3000/3000 [==============================] - 6s 2ms/step - loss: 0.4850 - accuracy: 0.8307 - val_loss: 0.4584 - val_accuracy: 0.8317\n",
            "Epoch 3/5\n",
            "3000/3000 [==============================] - 6s 2ms/step - loss: 0.4427 - accuracy: 0.8440 - val_loss: 0.4153 - val_accuracy: 0.8501\n",
            "Epoch 4/5\n",
            "3000/3000 [==============================] - 6s 2ms/step - loss: 0.4213 - accuracy: 0.8478 - val_loss: 0.4238 - val_accuracy: 0.8471\n",
            "Epoch 5/5\n",
            "3000/3000 [==============================] - 6s 2ms/step - loss: 0.4108 - accuracy: 0.8516 - val_loss: 0.4237 - val_accuracy: 0.8439\n"
          ]
        }
      ]
    },
    {
      "cell_type": "code",
      "source": [
        "plt.plot(historico.history['accuracy'])\n",
        "plt.plot(historico.history['val_accuracy'])\n",
        "plt.title(\"Acuracia por épocas\")\n",
        "plt.xlabel(\"Épocas\")\n",
        "plt.ylabel(\"Acuracia\")\n",
        "plt.legend([\"treino\",\"avaliação\"])"
      ],
      "metadata": {
        "colab": {
          "base_uri": "https://localhost:8080/",
          "height": 315
        },
        "outputId": "4a3b4969-9f07-4e3a-dbef-b24fa8296519",
        "id": "liqU1xhXgYfo"
      },
      "execution_count": 30,
      "outputs": [
        {
          "output_type": "execute_result",
          "data": {
            "text/plain": [
              "<matplotlib.legend.Legend at 0x7ffa1c3fa750>"
            ]
          },
          "metadata": {},
          "execution_count": 30
        },
        {
          "output_type": "display_data",
          "data": {
            "text/plain": [
              "<Figure size 432x288 with 1 Axes>"
            ],
            "image/png": "[encoded data removed]"
          },
          "metadata": {
            "needs_background": "light"
          }
        }
      ]
    },
    {
      "cell_type": "code",
      "source": [
        "plt.plot(historico.history['loss'])\n",
        "plt.plot(historico.history['val_loss'])\n",
        "plt.title(\"Perda por épocas\")\n",
        "plt.xlabel(\"Épocas\")\n",
        "plt.ylabel(\"Perda\")\n",
        "plt.legend([\"treino\",\"avaliação\"])"
      ],
      "metadata": {
        "colab": {
          "base_uri": "https://localhost:8080/",
          "height": 315
        },
        "outputId": "f9dd535e-dcc7-4932-f257-5decf1566012",
        "id": "qdb0mhlOgYfs"
      },
      "execution_count": 31,
      "outputs": [
        {
          "output_type": "execute_result",
          "data": {
            "text/plain": [
              "<matplotlib.legend.Legend at 0x7ffa25d46c50>"
            ]
          },
          "metadata": {},
          "execution_count": 31
        },
        {
          "output_type": "display_data",
          "data": {
            "text/plain": [
              "<Figure size 432x288 with 1 Axes>"
            ],
            "image/png": "[encoded data removed]"
          },
          "metadata": {
            "needs_background": "light"
          }
        }
      ]
    },
    {
      "cell_type": "markdown",
      "source": [
        "# Configuracoes da Rede"
      ],
      "metadata": {
        "id": "jPqKX4dJitMu"
      }
    },
    {
      "cell_type": "code",
      "source": [
        "modelo.get_config()\n",
        "# GlorotUniform -> Utilizado para inicializar"
      ],
      "metadata": {
        "colab": {
          "base_uri": "https://localhost:8080/"
        },
        "id": "PfJx2YXriwxo",
        "outputId": "e3c277b5-ca41-47b9-e555-054d39267f82"
      },
      "execution_count": 32,
      "outputs": [
        {
          "output_type": "execute_result",
          "data": {
            "text/plain": [
              "{'layers': [{'class_name': 'InputLayer',\n",
              "   'config': {'batch_input_shape': (None, 28, 28),\n",
              "    'dtype': 'float32',\n",
              "    'name': 'flatten_2_input',\n",
              "    'ragged': False,\n",
              "    'sparse': False}},\n",
              "  {'class_name': 'Flatten',\n",
              "   'config': {'batch_input_shape': (None, 28, 28),\n",
              "    'data_format': 'channels_last',\n",
              "    'dtype': 'float32',\n",
              "    'name': 'flatten_2',\n",
              "    'trainable': True}},\n",
              "  {'class_name': 'Dense',\n",
              "   'config': {'activation': 'relu',\n",
              "    'activity_regularizer': None,\n",
              "    'bias_constraint': None,\n",
              "    'bias_initializer': {'class_name': 'Zeros', 'config': {}},\n",
              "    'bias_regularizer': None,\n",
              "    'dtype': 'float32',\n",
              "    'kernel_constraint': None,\n",
              "    'kernel_initializer': {'class_name': 'GlorotUniform',\n",
              "     'config': {'seed': None}},\n",
              "    'kernel_regularizer': None,\n",
              "    'name': 'dense_8',\n",
              "    'trainable': True,\n",
              "    'units': 16,\n",
              "    'use_bias': True}},\n",
              "  {'class_name': 'Dense',\n",
              "   'config': {'activation': 'relu',\n",
              "    'activity_regularizer': None,\n",
              "    'bias_constraint': None,\n",
              "    'bias_initializer': {'class_name': 'Zeros', 'config': {}},\n",
              "    'bias_regularizer': None,\n",
              "    'dtype': 'float32',\n",
              "    'kernel_constraint': None,\n",
              "    'kernel_initializer': {'class_name': 'GlorotUniform',\n",
              "     'config': {'seed': None}},\n",
              "    'kernel_regularizer': None,\n",
              "    'name': 'dense_9',\n",
              "    'trainable': True,\n",
              "    'units': 32,\n",
              "    'use_bias': True}},\n",
              "  {'class_name': 'Dropout',\n",
              "   'config': {'dtype': 'float32',\n",
              "    'name': 'dropout_2',\n",
              "    'noise_shape': None,\n",
              "    'rate': 0.2,\n",
              "    'seed': None,\n",
              "    'trainable': True}},\n",
              "  {'class_name': 'Dense',\n",
              "   'config': {'activation': 'relu',\n",
              "    'activity_regularizer': None,\n",
              "    'bias_constraint': None,\n",
              "    'bias_initializer': {'class_name': 'Zeros', 'config': {}},\n",
              "    'bias_regularizer': None,\n",
              "    'dtype': 'float32',\n",
              "    'kernel_constraint': None,\n",
              "    'kernel_initializer': {'class_name': 'GlorotUniform',\n",
              "     'config': {'seed': None}},\n",
              "    'kernel_regularizer': None,\n",
              "    'name': 'dense_10',\n",
              "    'trainable': True,\n",
              "    'units': 16,\n",
              "    'use_bias': True}},\n",
              "  {'class_name': 'Dense',\n",
              "   'config': {'activation': 'softmax',\n",
              "    'activity_regularizer': None,\n",
              "    'bias_constraint': None,\n",
              "    'bias_initializer': {'class_name': 'Zeros', 'config': {}},\n",
              "    'bias_regularizer': None,\n",
              "    'dtype': 'float32',\n",
              "    'kernel_constraint': None,\n",
              "    'kernel_initializer': {'class_name': 'GlorotUniform',\n",
              "     'config': {'seed': None}},\n",
              "    'kernel_regularizer': None,\n",
              "    'name': 'dense_11',\n",
              "    'trainable': True,\n",
              "    'units': 10,\n",
              "    'use_bias': True}}],\n",
              " 'name': 'sequential_2'}"
            ]
          },
          "metadata": {},
          "execution_count": 32
        }
      ]
    },
    {
      "cell_type": "code",
      "source": [
        ""
      ],
      "metadata": {
        "id": "T36fu7Cfi0nh"
      },
      "execution_count": null,
      "outputs": []
    }
  ]
}