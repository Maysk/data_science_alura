{
  "nbformat": 4,
  "nbformat_minor": 0,
  "metadata": {
    "colab": {
      "name": "classificacao_roupas_p2.ipynb",
      "provenance": [],
      "collapsed_sections": [],
      "authorship_tag": "ABX9TyOy/C04GhafIUsoks6DCo+t",
      "include_colab_link": true
    },
    "kernelspec": {
      "name": "python3",
      "display_name": "Python 3"
    },
    "language_info": {
      "name": "python"
    }
  },
  "cells": [
    {
      "cell_type": "markdown",
      "metadata": {
        "id": "view-in-github",
        "colab_type": "text"
      },
      "source": [
        "<a href=\"https://colab.research.google.com/github/Maysk/data_science_alura/blob/main/deep_learning_parte_2/classificacao_roupas_2.ipynb\" target=\"_parent\"><img src=\"https://colab.research.google.com/assets/colab-badge.svg\" alt=\"Open In Colab\"/></a>"
      ]
    },
    {
      "cell_type": "markdown",
      "source": [
        "#Imports\n"
      ],
      "metadata": {
        "id": "_asaMSJf-P2z"
      }
    },
    {
      "cell_type": "code",
      "source": [
        "import tensorflow\n",
        "from tensorflow import keras \n",
        "import numpy as np\n",
        "import matplotlib.pyplot as plt\n"
      ],
      "metadata": {
        "id": "TmDmEErLzvKq"
      },
      "execution_count": 1,
      "outputs": []
    },
    {
      "cell_type": "code",
      "source": [
        "tensorflow.__version__"
      ],
      "metadata": {
        "colab": {
          "base_uri": "https://localhost:8080/",
          "height": 35
        },
        "id": "34GHt48UopTw",
        "outputId": "ceefc182-626d-4993-b612-6047d39a08c2"
      },
      "execution_count": 2,
      "outputs": [
        {
          "output_type": "execute_result",
          "data": {
            "text/plain": [
              "'2.8.0'"
            ],
            "application/vnd.google.colaboratory.intrinsic+json": {
              "type": "string"
            }
          },
          "metadata": {},
          "execution_count": 2
        }
      ]
    },
    {
      "cell_type": "code",
      "source": [
        "\n",
        "# tensorflow.compat.v1.disable_eager_execution()"
      ],
      "metadata": {
        "id": "pVdVMmWFo5eS"
      },
      "execution_count": 3,
      "outputs": []
    },
    {
      "cell_type": "markdown",
      "source": [
        "#Carregar Dataset"
      ],
      "metadata": {
        "id": "RI3qxjMy-OHw"
      }
    },
    {
      "cell_type": "code",
      "execution_count": 4,
      "metadata": {
        "id": "RsHEcqHyzfs0"
      },
      "outputs": [],
      "source": [
        "dataset = keras.datasets.fashion_mnist"
      ]
    },
    {
      "cell_type": "markdown",
      "source": [
        "# Explorar os Dados"
      ],
      "metadata": {
        "id": "tZ-Xssew-K-V"
      }
    },
    {
      "cell_type": "code",
      "source": [
        "((imagens_treino, id_treino), (imagens_teste, id_teste)) = dataset.load_data();"
      ],
      "metadata": {
        "id": "OwVq1EdFztQd"
      },
      "execution_count": 5,
      "outputs": []
    },
    {
      "cell_type": "code",
      "source": [
        "nomes_de_classificacoes = [\"T-shirt/top\",\"Trouser\",\"Pullover\",\"Dress\",\"Coat\",\"Sandal\",\"Shirt\",\"Sneaker\",\"Bag\",\"Ankle boot\"]\n",
        "\n",
        "numero_de_classificacoes = len(np.unique(id_treino))"
      ],
      "metadata": {
        "id": "L_Y6S4pn0CM7"
      },
      "execution_count": 6,
      "outputs": []
    },
    {
      "cell_type": "markdown",
      "source": [
        "#Exibir os dados"
      ],
      "metadata": {
        "id": "yo1nhmvR-WWc"
      }
    },
    {
      "cell_type": "code",
      "source": [
        "# for imagem in range(10):\n",
        "#   plt.subplot(2, 5, imagem+1)\n",
        "#   plt.imshow(imagens_treino[imagem])\n",
        "#   plt.title(nomes_de_classificacoes[id_treino[imagem]])\n",
        "\n",
        "plt.imshow(imagens_treino[0])\n",
        "plt.colorbar()"
      ],
      "metadata": {
        "colab": {
          "base_uri": "https://localhost:8080/",
          "height": 283
        },
        "id": "BiUdREXI0Hq3",
        "outputId": "cd3d741c-036f-4705-a537-a62c4250b6ca"
      },
      "execution_count": 7,
      "outputs": [
        {
          "output_type": "execute_result",
          "data": {
            "text/plain": [
              "<matplotlib.colorbar.Colorbar at 0x7fd2615bcc50>"
            ]
          },
          "metadata": {},
          "execution_count": 7
        },
        {
          "output_type": "display_data",
          "data": {
            "text/plain": [
              "<Figure size 432x288 with 2 Axes>"
            ],
            "image/png": "[encoded data removed]"
          },
          "metadata": {
            "needs_background": "light"
          }
        }
      ]
    },
    {
      "cell_type": "markdown",
      "source": [
        "# Modelo\n",
        "- Criando, compilando e treinando o modelo\n",
        "- Modelo foi normalizado e uma camada dropout foi utilizada (0.2)"
      ],
      "metadata": {
        "id": "wr_w0hkMEJDg"
      }
    },
    {
      "cell_type": "code",
      "source": [
        "#normalizacao\n",
        "imagens_treino_modificada = imagens_treino / float(255)\n",
        "\n",
        "#entrada\n",
        "layer_0 = keras.layers.Flatten(input_shape=(28,28))\n",
        "\n",
        "#processamento\n",
        "layer_hidden = [\n",
        "  keras.layers.Dense(16, activation=tensorflow.nn.relu),\n",
        "  keras.layers.Dense(32, activation=tensorflow.nn.relu),\n",
        "  keras.layers.Dropout(0.2),\n",
        "  keras.layers.Dense(16, activation=tensorflow.nn.relu),\n",
        "]\n",
        "\n",
        "#saida\n",
        "layer_n = keras.layers.Dense(10, activation=tensorflow.nn.softmax)\n",
        "\n",
        "#Modelo com duas camadas\n",
        "modelo = keras.Sequential([layer_0, *layer_hidden, layer_n])\n",
        "\n",
        "\n",
        "modelo.compile(optimizer='adam', loss='sparse_categorical_crossentropy', metrics=['accuracy',])"
      ],
      "metadata": {
        "id": "8r5LZ4xI0Ypm"
      },
      "execution_count": 8,
      "outputs": []
    },
    {
      "cell_type": "code",
      "source": [
        "modelo.summary()"
      ],
      "metadata": {
        "colab": {
          "base_uri": "https://localhost:8080/"
        },
        "id": "9AkA_3QPfVq8",
        "outputId": "4b047468-c020-418c-a690-2c1a60e97df1"
      },
      "execution_count": 9,
      "outputs": [
        {
          "output_type": "stream",
          "name": "stdout",
          "text": [
            "Model: \"sequential\"\n",
            "_________________________________________________________________\n",
            " Layer (type)                Output Shape              Param #   \n",
            "=================================================================\n",
            " flatten (Flatten)           (None, 784)               0         \n",
            "                                                                 \n",
            " dense (Dense)               (None, 16)                12560     \n",
            "                                                                 \n",
            " dense_1 (Dense)             (None, 32)                544       \n",
            "                                                                 \n",
            " dropout (Dropout)           (None, 32)                0         \n",
            "                                                                 \n",
            " dense_2 (Dense)             (None, 16)                528       \n",
            "                                                                 \n",
            " dense_3 (Dense)             (None, 10)                170       \n",
            "                                                                 \n",
            "=================================================================\n",
            "Total params: 13,802\n",
            "Trainable params: 13,802\n",
            "Non-trainable params: 0\n",
            "_________________________________________________________________\n"
          ]
        }
      ]
    },
    {
      "cell_type": "code",
      "source": [
        "historico = modelo.fit(imagens_treino_modificada, id_treino, verbose=1, epochs=5, steps_per_epoch=3000, validation_split=0.2)"
      ],
      "metadata": {
        "colab": {
          "base_uri": "https://localhost:8080/"
        },
        "id": "6PgyjxSbFvNI",
        "outputId": "11c96bfc-4b44-4ce5-857f-343b4c8bcf22"
      },
      "execution_count": 10,
      "outputs": [
        {
          "output_type": "stream",
          "name": "stdout",
          "text": [
            "Epoch 1/5\n",
            "3000/3000 [==============================] - 15s 4ms/step - loss: 0.7333 - accuracy: 0.7386 - val_loss: 0.4757 - val_accuracy: 0.8346\n",
            "Epoch 2/5\n",
            "3000/3000 [==============================] - 7s 2ms/step - loss: 0.4914 - accuracy: 0.8284 - val_loss: 0.4299 - val_accuracy: 0.8469\n",
            "Epoch 3/5\n",
            "3000/3000 [==============================] - 7s 2ms/step - loss: 0.4511 - accuracy: 0.8421 - val_loss: 0.4079 - val_accuracy: 0.8556\n",
            "Epoch 4/5\n",
            "3000/3000 [==============================] - 8s 3ms/step - loss: 0.4280 - accuracy: 0.8495 - val_loss: 0.4184 - val_accuracy: 0.8508\n",
            "Epoch 5/5\n",
            "3000/3000 [==============================] - 7s 2ms/step - loss: 0.4131 - accuracy: 0.8533 - val_loss: 0.4484 - val_accuracy: 0.8431\n"
          ]
        }
      ]
    },
    {
      "cell_type": "markdown",
      "source": [
        "##Visualizando as acurácias de treino e validação por época"
      ],
      "metadata": {
        "id": "ZXrEFUF3eHtc"
      }
    },
    {
      "cell_type": "code",
      "source": [
        "plt.plot(historico.history['accuracy'])\n",
        "plt.plot(historico.history['val_accuracy'])\n",
        "plt.title(\"Acuracia por épocas\")\n",
        "plt.xlabel(\"Épocas\")\n",
        "plt.ylabel(\"Acuracia\")\n",
        "plt.legend([\"treino\",\"avaliação\"])"
      ],
      "metadata": {
        "colab": {
          "base_uri": "https://localhost:8080/",
          "height": 315
        },
        "id": "HzGXI-YgGDGW",
        "outputId": "a3cc7832-d06f-412a-8ad4-928f7061616a"
      },
      "execution_count": 11,
      "outputs": [
        {
          "output_type": "execute_result",
          "data": {
            "text/plain": [
              "<matplotlib.legend.Legend at 0x7fd25b5f5490>"
            ]
          },
          "metadata": {},
          "execution_count": 11
        },
        {
          "output_type": "display_data",
          "data": {
            "text/plain": [
              "<Figure size 432x288 with 1 Axes>"
            ],
            "image/png": "[encoded data removed]"
          },
          "metadata": {
            "needs_background": "light"
          }
        }
      ]
    },
    {
      "cell_type": "markdown",
      "source": [
        "##Visualizando as perdas de treino e validação por época"
      ],
      "metadata": {
        "id": "b7E9uklleRS6"
      }
    },
    {
      "cell_type": "code",
      "source": [
        "plt.plot(historico.history['loss'])\n",
        "plt.plot(historico.history['val_loss'])\n",
        "plt.title(\"Perda por épocas\")\n",
        "plt.xlabel(\"Épocas\")\n",
        "plt.ylabel(\"Perda\")\n",
        "plt.legend([\"treino\",\"avaliação\"])"
      ],
      "metadata": {
        "colab": {
          "base_uri": "https://localhost:8080/",
          "height": 315
        },
        "id": "SwHXYpLRIpFo",
        "outputId": "70224314-0db5-4f21-c4c8-6ce096877582"
      },
      "execution_count": 12,
      "outputs": [
        {
          "output_type": "execute_result",
          "data": {
            "text/plain": [
              "<matplotlib.legend.Legend at 0x7fd25cd520d0>"
            ]
          },
          "metadata": {},
          "execution_count": 12
        },
        {
          "output_type": "display_data",
          "data": {
            "text/plain": [
              "<Figure size 432x288 with 1 Axes>"
            ],
            "image/png": "[encoded data removed]"
          },
          "metadata": {
            "needs_background": "light"
          }
        }
      ]
    },
    {
      "cell_type": "markdown",
      "source": [
        "##Salvando e carregando o modelo treinado"
      ],
      "metadata": {
        "id": "qKxcBmvUd7pp"
      }
    },
    {
      "cell_type": "code",
      "source": [
        "modelo.save('modelo.h5')\n",
        "modelo_salvo = tensorflow.keras.models.load_model('modelo.h5')"
      ],
      "metadata": {
        "id": "Xv0TgGbZbEv-"
      },
      "execution_count": 13,
      "outputs": []
    },
    {
      "cell_type": "markdown",
      "source": [
        "##Avaliando o modelo"
      ],
      "metadata": {
        "id": "EVPF4kHyeWV5"
      }
    },
    {
      "cell_type": "code",
      "source": [
        "perda_teste, acuracia_teste = modelo.evaluate(imagens_teste, id_teste, steps=50)"
      ],
      "metadata": {
        "colab": {
          "base_uri": "https://localhost:8080/"
        },
        "id": "wcHinVtOeXsI",
        "outputId": "9e9f6841-f427-460c-8649-611d46a3c67c"
      },
      "execution_count": 14,
      "outputs": [
        {
          "output_type": "stream",
          "name": "stdout",
          "text": [
            "50/50 [==============================] - 0s 4ms/step - loss: 103.2944 - accuracy: 0.7674\n"
          ]
        }
      ]
    },
    {
      "cell_type": "code",
      "source": [
        "perda_teste, acuracia_teste = modelo_salvo.evaluate(imagens_teste, id_teste, steps=50)"
      ],
      "metadata": {
        "colab": {
          "base_uri": "https://localhost:8080/"
        },
        "id": "aDcfZXJSbq34",
        "outputId": "2e0a26c1-38d9-4136-dee3-8c0bb9656814"
      },
      "execution_count": 15,
      "outputs": [
        {
          "output_type": "stream",
          "name": "stdout",
          "text": [
            "50/50 [==============================] - 0s 3ms/step - loss: 103.2944 - accuracy: 0.7674\n"
          ]
        }
      ]
    },
    {
      "cell_type": "markdown",
      "source": [
        "# Entendendo o que foi feito"
      ],
      "metadata": {
        "id": "1E01k_vAgAel"
      }
    },
    {
      "cell_type": "code",
      "source": [
        "modelo.summary()"
      ],
      "metadata": {
        "colab": {
          "base_uri": "https://localhost:8080/"
        },
        "id": "RPU8Ql8_T7tb",
        "outputId": "ae4bc145-4368-43aa-b29b-39e4495bd999"
      },
      "execution_count": 16,
      "outputs": [
        {
          "output_type": "stream",
          "name": "stdout",
          "text": [
            "Model: \"sequential\"\n",
            "_________________________________________________________________\n",
            " Layer (type)                Output Shape              Param #   \n",
            "=================================================================\n",
            " flatten (Flatten)           (None, 784)               0         \n",
            "                                                                 \n",
            " dense (Dense)               (None, 16)                12560     \n",
            "                                                                 \n",
            " dense_1 (Dense)             (None, 32)                544       \n",
            "                                                                 \n",
            " dropout (Dropout)           (None, 32)                0         \n",
            "                                                                 \n",
            " dense_2 (Dense)             (None, 16)                528       \n",
            "                                                                 \n",
            " dense_3 (Dense)             (None, 10)                170       \n",
            "                                                                 \n",
            "=================================================================\n",
            "Total params: 13,802\n",
            "Trainable params: 13,802\n",
            "Non-trainable params: 0\n",
            "_________________________________________________________________\n"
          ]
        }
      ]
    },
    {
      "cell_type": "markdown",
      "source": [
        "---\n",
        "**O valor no params não é magia. Ele é output_size * (input_size + 1) == number_parameters.**\n",
        "\n",
        "**Cada camada tem um bias (Por isso o input_size+1).**\n",
        "\n",
        "Link: \n",
        "- https://stackoverflow.com/questions/2480650/what-is-the-role-of-the-bias-in-neural-networks\n",
        "- https://stackoverflow.com/questions/36946671/keras-model-summary-result-understanding-the-of-parameters\n",
        "---"
      ],
      "metadata": {
        "id": "M2MQrVR7f5QT"
      }
    },
    {
      "cell_type": "code",
      "source": [
        "pesos_da_camada_dense_0 = modelo.layers[1].get_weights()[0]\n",
        "vieses_da_camada_dense_0 = modelo.layers[1].get_weights()[1]\n",
        "print(f\"Shape pesos:{pesos_da_camada_dense_0.shape}\")\n",
        "print(f\"Shape vieses:{vieses_da_camada_dense_0.shape}\")"
      ],
      "metadata": {
        "colab": {
          "base_uri": "https://localhost:8080/"
        },
        "outputId": "18c3e4af-4df0-4417-c45a-694e0578b4ba",
        "id": "CCFW9dORf5Qb"
      },
      "execution_count": 17,
      "outputs": [
        {
          "output_type": "stream",
          "name": "stdout",
          "text": [
            "Shape pesos:(784, 16)\n",
            "Shape vieses:(16,)\n"
          ]
        }
      ]
    },
    {
      "cell_type": "code",
      "source": [
        "#normalizacao\n",
        "imagens_treino_modificada = imagens_treino / float(255)\n",
        "\n",
        "#entrada\n",
        "layer_0 = keras.layers.Flatten(input_shape=(28,28))\n",
        "\n",
        "#processamento\n",
        "layer_hidden = [\n",
        "  keras.layers.Dense(16, activation=tensorflow.nn.relu),\n",
        "  keras.layers.Dense(32, activation=tensorflow.nn.relu),\n",
        "  keras.layers.Dropout(0.2),\n",
        "  keras.layers.Dense(16, activation=tensorflow.nn.relu),\n",
        "]\n",
        "\n",
        "#saida\n",
        "layer_n = keras.layers.Dense(10, activation=tensorflow.nn.softmax)\n",
        "\n",
        "#Modelo com duas camadas\n",
        "modelo = keras.Sequential([layer_0, *layer_hidden, layer_n])\n",
        "\n",
        "adam = keras.optimizers.Adam(lr=0.001)\n",
        "\n",
        "\n",
        "modelo.compile(optimizer=adam, loss='sparse_categorical_crossentropy', metrics=['accuracy',])"
      ],
      "metadata": {
        "id": "DxdTJthbgSyu",
        "colab": {
          "base_uri": "https://localhost:8080/"
        },
        "outputId": "fff4623b-2f50-4825-83ae-971293f2a2d2"
      },
      "execution_count": 18,
      "outputs": [
        {
          "output_type": "stream",
          "name": "stderr",
          "text": [
            "/usr/local/lib/python3.7/dist-packages/keras/optimizer_v2/adam.py:105: UserWarning: The `lr` argument is deprecated, use `learning_rate` instead.\n",
            "  super(Adam, self).__init__(name, **kwargs)\n"
          ]
        }
      ]
    },
    {
      "cell_type": "code",
      "source": [
        "'''\n",
        " # Pode matar a rede  \n",
        " pesos_da_camada_dense_0_zerados = np.zeros(pesos_da_camada_dense_0.shape)\n",
        " vieses_da_camada_dense_0_zerados = np.zeros(vieses_da_camada_dense_0.shape)\n",
        " modelo.layers[1].set_weights([pesos_da_camada_dense_0_zerados, vieses_da_camada_dense_0_zerados ])\n",
        "'''\n",
        "\n",
        "# Pode ocorrer vanish gradients \n",
        "# pesos_da_camada_dense_0_aleatorios = np.random.rand(*pesos_da_camada_dense_0.shape)\n",
        "# vieses_da_camada_dense_0_zerados = np.zeros(vieses_da_camada_dense_0.shape)\n",
        "# modelo.layers[1].set_weights([pesos_da_camada_dense_0_aleatorios, vieses_da_camada_dense_0_zerados])\n"
      ],
      "metadata": {
        "colab": {
          "base_uri": "https://localhost:8080/",
          "height": 53
        },
        "id": "4IzKe7KfQDHp",
        "outputId": "b8fff6e3-4c38-467a-ae5b-ed0704ac1716"
      },
      "execution_count": 19,
      "outputs": [
        {
          "output_type": "execute_result",
          "data": {
            "text/plain": [
              "'\\n # Pode matar a rede  \\n pesos_da_camada_dense_0_zerados = np.zeros(pesos_da_camada_dense_0.shape)\\n vieses_da_camada_dense_0_zerados = np.zeros(vieses_da_camada_dense_0.shape)\\n modelo.layers[1].set_weights([pesos_da_camada_dense_0_zerados, vieses_da_camada_dense_0_zerados ])\\n'"
            ],
            "application/vnd.google.colaboratory.intrinsic+json": {
              "type": "string"
            }
          },
          "metadata": {},
          "execution_count": 19
        }
      ]
    },
    {
      "cell_type": "code",
      "source": [
        "callbacks = [\n",
        "  keras.callbacks.EarlyStopping(monitor='val_accuracy'), \n",
        "  keras.callbacks.ModelCheckpoint(filepath='melhor_modelo_acc.h5', monitor='val_accuracy', save_best_only=True)\n",
        "]\n",
        "\n",
        "historico = modelo.fit(\n",
        "    imagens_treino_modificada, \n",
        "    id_treino, \n",
        "    epochs=20,\n",
        "    batch_size=50, \n",
        "    validation_split=0.3,\n",
        "    callbacks= callbacks)"
      ],
      "metadata": {
        "colab": {
          "base_uri": "https://localhost:8080/"
        },
        "outputId": "1266a3cd-1456-4c39-94b0-ea66e719a84c",
        "id": "jzw_V8OagYfi"
      },
      "execution_count": 20,
      "outputs": [
        {
          "output_type": "stream",
          "name": "stdout",
          "text": [
            "Epoch 1/20\n",
            "840/840 [==============================] - 4s 4ms/step - loss: 0.8490 - accuracy: 0.6874 - val_loss: 0.5298 - val_accuracy: 0.8177\n",
            "Epoch 2/20\n",
            "840/840 [==============================] - 3s 4ms/step - loss: 0.5397 - accuracy: 0.8106 - val_loss: 0.4515 - val_accuracy: 0.8365\n"
          ]
        }
      ]
    },
    {
      "cell_type": "code",
      "source": [
        "perda_teste, acuracia_teste = modelo.evaluate(imagens_teste, id_teste, batch_size=50)"
      ],
      "metadata": {
        "colab": {
          "base_uri": "https://localhost:8080/"
        },
        "id": "H783AfQgipHg",
        "outputId": "d2dce4c4-effb-4c5c-8d7b-4cf152de5199"
      },
      "execution_count": 21,
      "outputs": [
        {
          "output_type": "stream",
          "name": "stdout",
          "text": [
            "200/200 [==============================] - 1s 3ms/step - loss: 66.4502 - accuracy: 0.8062\n"
          ]
        }
      ]
    },
    {
      "cell_type": "code",
      "source": [
        "acuracia_teste"
      ],
      "metadata": {
        "colab": {
          "base_uri": "https://localhost:8080/"
        },
        "id": "WhArzYRNpfOR",
        "outputId": "a7db41f3-04f2-4fdd-80ce-4809f7f7de03"
      },
      "execution_count": 22,
      "outputs": [
        {
          "output_type": "execute_result",
          "data": {
            "text/plain": [
              "0.8062000274658203"
            ]
          },
          "metadata": {},
          "execution_count": 22
        }
      ]
    },
    {
      "cell_type": "code",
      "source": [
        "perda_teste"
      ],
      "metadata": {
        "colab": {
          "base_uri": "https://localhost:8080/"
        },
        "id": "hcAv4yItphWy",
        "outputId": "bcfb714b-be69-46fc-81c6-d69de8e9f1af"
      },
      "execution_count": 23,
      "outputs": [
        {
          "output_type": "execute_result",
          "data": {
            "text/plain": [
              "66.45024108886719"
            ]
          },
          "metadata": {},
          "execution_count": 23
        }
      ]
    },
    {
      "cell_type": "code",
      "source": [
        "plt.plot(historico.history['accuracy'])\n",
        "plt.plot(historico.history['val_accuracy'])\n",
        "plt.title(\"Acuracia por épocas\")\n",
        "plt.xlabel(\"Épocas\")\n",
        "plt.ylabel(\"Acuracia\")\n",
        "plt.legend([\"treino\",\"avaliação\"])"
      ],
      "metadata": {
        "colab": {
          "base_uri": "https://localhost:8080/",
          "height": 315
        },
        "outputId": "e266c648-05d5-4f8b-d9b5-5d8fa5f342e7",
        "id": "liqU1xhXgYfo"
      },
      "execution_count": 24,
      "outputs": [
        {
          "output_type": "execute_result",
          "data": {
            "text/plain": [
              "<matplotlib.legend.Legend at 0x7fd25ca36750>"
            ]
          },
          "metadata": {},
          "execution_count": 24
        },
        {
          "output_type": "display_data",
          "data": {
            "text/plain": [
              "<Figure size 432x288 with 1 Axes>"
            ],
            "image/png": "[encoded data removed]"
          },
          "metadata": {
            "needs_background": "light"
          }
        }
      ]
    },
    {
      "cell_type": "code",
      "source": [
        "plt.plot(historico.history['loss'])\n",
        "plt.plot(historico.history['val_loss'])\n",
        "plt.title(\"Perda por épocas\")\n",
        "plt.xlabel(\"Épocas\")\n",
        "plt.ylabel(\"Perda\")\n",
        "plt.legend([\"treino\",\"avaliação\"])"
      ],
      "metadata": {
        "colab": {
          "base_uri": "https://localhost:8080/",
          "height": 315
        },
        "outputId": "04aa9b96-01b0-4d50-f4d6-1cb4cbe82c11",
        "id": "qdb0mhlOgYfs"
      },
      "execution_count": 25,
      "outputs": [
        {
          "output_type": "execute_result",
          "data": {
            "text/plain": [
              "<matplotlib.legend.Legend at 0x7fd25ca4f4d0>"
            ]
          },
          "metadata": {},
          "execution_count": 25
        },
        {
          "output_type": "display_data",
          "data": {
            "text/plain": [
              "<Figure size 432x288 with 1 Axes>"
            ],
            "image/png": "[encoded data removed]"
          },
          "metadata": {
            "needs_background": "light"
          }
        }
      ]
    },
    {
      "cell_type": "markdown",
      "source": [
        "# Configuracoes da Rede\n",
        "\n",
        "> Link do artigo (ou paper): http://jmlr.org/proceedings/papers/v9/glorot10a/glorot10a.pdf\n"
      ],
      "metadata": {
        "id": "jPqKX4dJitMu"
      }
    },
    {
      "cell_type": "code",
      "source": [
        "modelo.get_config()\n",
        "# GlorotUniform (AKA algoritmo de Xavier) -> Utilizado para inicializar\n"
      ],
      "metadata": {
        "colab": {
          "base_uri": "https://localhost:8080/"
        },
        "id": "PfJx2YXriwxo",
        "outputId": "3c2d1e8e-0cce-494e-9261-2b33f12b86c3"
      },
      "execution_count": 26,
      "outputs": [
        {
          "output_type": "execute_result",
          "data": {
            "text/plain": [
              "{'layers': [{'class_name': 'InputLayer',\n",
              "   'config': {'batch_input_shape': (None, 28, 28),\n",
              "    'dtype': 'float32',\n",
              "    'name': 'flatten_1_input',\n",
              "    'ragged': False,\n",
              "    'sparse': False}},\n",
              "  {'class_name': 'Flatten',\n",
              "   'config': {'batch_input_shape': (None, 28, 28),\n",
              "    'data_format': 'channels_last',\n",
              "    'dtype': 'float32',\n",
              "    'name': 'flatten_1',\n",
              "    'trainable': True}},\n",
              "  {'class_name': 'Dense',\n",
              "   'config': {'activation': 'relu',\n",
              "    'activity_regularizer': None,\n",
              "    'bias_constraint': None,\n",
              "    'bias_initializer': {'class_name': 'Zeros', 'config': {}},\n",
              "    'bias_regularizer': None,\n",
              "    'dtype': 'float32',\n",
              "    'kernel_constraint': None,\n",
              "    'kernel_initializer': {'class_name': 'GlorotUniform',\n",
              "     'config': {'seed': None}},\n",
              "    'kernel_regularizer': None,\n",
              "    'name': 'dense_4',\n",
              "    'trainable': True,\n",
              "    'units': 16,\n",
              "    'use_bias': True}},\n",
              "  {'class_name': 'Dense',\n",
              "   'config': {'activation': 'relu',\n",
              "    'activity_regularizer': None,\n",
              "    'bias_constraint': None,\n",
              "    'bias_initializer': {'class_name': 'Zeros', 'config': {}},\n",
              "    'bias_regularizer': None,\n",
              "    'dtype': 'float32',\n",
              "    'kernel_constraint': None,\n",
              "    'kernel_initializer': {'class_name': 'GlorotUniform',\n",
              "     'config': {'seed': None}},\n",
              "    'kernel_regularizer': None,\n",
              "    'name': 'dense_5',\n",
              "    'trainable': True,\n",
              "    'units': 32,\n",
              "    'use_bias': True}},\n",
              "  {'class_name': 'Dropout',\n",
              "   'config': {'dtype': 'float32',\n",
              "    'name': 'dropout_1',\n",
              "    'noise_shape': None,\n",
              "    'rate': 0.2,\n",
              "    'seed': None,\n",
              "    'trainable': True}},\n",
              "  {'class_name': 'Dense',\n",
              "   'config': {'activation': 'relu',\n",
              "    'activity_regularizer': None,\n",
              "    'bias_constraint': None,\n",
              "    'bias_initializer': {'class_name': 'Zeros', 'config': {}},\n",
              "    'bias_regularizer': None,\n",
              "    'dtype': 'float32',\n",
              "    'kernel_constraint': None,\n",
              "    'kernel_initializer': {'class_name': 'GlorotUniform',\n",
              "     'config': {'seed': None}},\n",
              "    'kernel_regularizer': None,\n",
              "    'name': 'dense_6',\n",
              "    'trainable': True,\n",
              "    'units': 16,\n",
              "    'use_bias': True}},\n",
              "  {'class_name': 'Dense',\n",
              "   'config': {'activation': 'softmax',\n",
              "    'activity_regularizer': None,\n",
              "    'bias_constraint': None,\n",
              "    'bias_initializer': {'class_name': 'Zeros', 'config': {}},\n",
              "    'bias_regularizer': None,\n",
              "    'dtype': 'float32',\n",
              "    'kernel_constraint': None,\n",
              "    'kernel_initializer': {'class_name': 'GlorotUniform',\n",
              "     'config': {'seed': None}},\n",
              "    'kernel_regularizer': None,\n",
              "    'name': 'dense_7',\n",
              "    'trainable': True,\n",
              "    'units': 10,\n",
              "    'use_bias': True}}],\n",
              " 'name': 'sequential_1'}"
            ]
          },
          "metadata": {},
          "execution_count": 26
        }
      ]
    },
    {
      "cell_type": "code",
      "source": [
        ""
      ],
      "metadata": {
        "id": "T36fu7Cfi0nh"
      },
      "execution_count": 26,
      "outputs": []
    }
  ]
}