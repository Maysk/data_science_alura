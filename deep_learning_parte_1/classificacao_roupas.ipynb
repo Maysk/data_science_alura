{
  "nbformat": 4,
  "nbformat_minor": 0,
  "metadata": {
    "colab": {
      "name": "classificacao_roupas.ipynb",
      "provenance": [],
      "collapsed_sections": [],
      "authorship_tag": "ABX9TyMrW0izf26klXPSAp31yoLX",
      "include_colab_link": true
    },
    "kernelspec": {
      "name": "python3",
      "display_name": "Python 3"
    },
    "language_info": {
      "name": "python"
    }
  },
  "cells": [
    {
      "cell_type": "markdown",
      "metadata": {
        "id": "view-in-github",
        "colab_type": "text"
      },
      "source": [
        "<a href=\"https://colab.research.google.com/github/Maysk/data_science_alura/blob/main/deep_learning_parte_1/classificacao_roupas.ipynb\" target=\"_parent\"><img src=\"https://colab.research.google.com/assets/colab-badge.svg\" alt=\"Open In Colab\"/></a>"
      ]
    },
    {
      "cell_type": "markdown",
      "source": [
        "#Imports\n"
      ],
      "metadata": {
        "id": "_asaMSJf-P2z"
      }
    },
    {
      "cell_type": "code",
      "source": [
        "import tensorflow\n",
        "from tensorflow import keras \n",
        "import numpy as np\n",
        "import matplotlib.pyplot as plt\n"
      ],
      "metadata": {
        "id": "TmDmEErLzvKq"
      },
      "execution_count": null,
      "outputs": []
    },
    {
      "cell_type": "markdown",
      "source": [
        "#Carregar Dataset"
      ],
      "metadata": {
        "id": "RI3qxjMy-OHw"
      }
    },
    {
      "cell_type": "code",
      "execution_count": null,
      "metadata": {
        "id": "RsHEcqHyzfs0"
      },
      "outputs": [],
      "source": [
        "dataset = keras.datasets.fashion_mnist"
      ]
    },
    {
      "cell_type": "markdown",
      "source": [
        "# Explorar os Dados"
      ],
      "metadata": {
        "id": "tZ-Xssew-K-V"
      }
    },
    {
      "cell_type": "code",
      "source": [
        "((imagens_treino, id_treino), (imagens_teste, id_teste)) = dataset.load_data();"
      ],
      "metadata": {
        "id": "OwVq1EdFztQd",
        "colab": {
          "base_uri": "https://localhost:8080/"
        },
        "outputId": "018cce40-6727-41ba-f8c6-ab063b38cdce"
      },
      "execution_count": null,
      "outputs": [
        {
          "output_type": "stream",
          "name": "stdout",
          "text": [
            "Downloading data from https://storage.googleapis.com/tensorflow/tf-keras-datasets/train-labels-idx1-ubyte.gz\n",
            "32768/29515 [=================================] - 0s 0us/step\n",
            "40960/29515 [=========================================] - 0s 0us/step\n",
            "Downloading data from https://storage.googleapis.com/tensorflow/tf-keras-datasets/train-images-idx3-ubyte.gz\n",
            "26427392/26421880 [==============================] - 0s 0us/step\n",
            "26435584/26421880 [==============================] - 0s 0us/step\n",
            "Downloading data from https://storage.googleapis.com/tensorflow/tf-keras-datasets/t10k-labels-idx1-ubyte.gz\n",
            "16384/5148 [===============================================================================================] - 0s 0us/step\n",
            "Downloading data from https://storage.googleapis.com/tensorflow/tf-keras-datasets/t10k-images-idx3-ubyte.gz\n",
            "4423680/4422102 [==============================] - 0s 0us/step\n",
            "4431872/4422102 [==============================] - 0s 0us/step\n"
          ]
        }
      ]
    },
    {
      "cell_type": "code",
      "source": [
        "nomes_de_classificacoes = [\"T-shirt/top\",\"Trouser\",\"Pullover\",\"Dress\",\"Coat\",\"Sandal\",\"Shirt\",\"Sneaker\",\"Bag\",\"Ankle boot\"]\n",
        "\n",
        "numero_de_classificacoes = len(np.unique(id_treino))"
      ],
      "metadata": {
        "id": "L_Y6S4pn0CM7"
      },
      "execution_count": null,
      "outputs": []
    },
    {
      "cell_type": "markdown",
      "source": [
        "#Exibir os dados"
      ],
      "metadata": {
        "id": "yo1nhmvR-WWc"
      }
    },
    {
      "cell_type": "code",
      "source": [
        "# for imagem in range(10):\n",
        "#   plt.subplot(2, 5, imagem+1)\n",
        "#   plt.imshow(imagens_treino[imagem])\n",
        "#   plt.title(nomes_de_classificacoes[id_treino[imagem]])\n",
        "\n",
        "plt.imshow(imagens_treino[0])\n",
        "plt.colorbar()"
      ],
      "metadata": {
        "colab": {
          "base_uri": "https://localhost:8080/",
          "height": 282
        },
        "id": "BiUdREXI0Hq3",
        "outputId": "46577795-0436-43a2-be16-e5aaadb5b6ed"
      },
      "execution_count": null,
      "outputs": [
        {
          "output_type": "execute_result",
          "data": {
            "text/plain": [
              "<matplotlib.colorbar.Colorbar at 0x7f51e574a2d0>"
            ]
          },
          "metadata": {},
          "execution_count": 6
        },
        {
          "output_type": "display_data",
          "data": {
            "text/plain": [
              "<Figure size 432x288 with 2 Axes>"
            ],
            "image/png": "[encoded data removed]"
          },
          "metadata": {
            "needs_background": "light"
          }
        }
      ]
    },
    {
      "cell_type": "markdown",
      "source": [
        "# Modelo\n",
        "- Criando, compilando e treinando o modelo\n",
        "- Modelo foi normalizado e uma camada dropout foi utilizada (0.2)"
      ],
      "metadata": {
        "id": "wr_w0hkMEJDg"
      }
    },
    {
      "cell_type": "code",
      "source": [
        "#normalizacao\n",
        "imagens_treino_modificada = imagens_treino / float(255)\n",
        "\n",
        "#entrada\n",
        "layer_0 = keras.layers.Flatten(input_shape=(28,28))\n",
        "\n",
        "#processamento\n",
        "layer_hidden = [\n",
        "  keras.layers.Dense(16, activation=tensorflow.nn.relu),\n",
        "  keras.layers.Dense(32, activation=tensorflow.nn.relu),\n",
        "  keras.layers.Dropout(0.2),\n",
        "  keras.layers.Dense(16, activation=tensorflow.nn.relu),\n",
        "]\n",
        "\n",
        "#saida\n",
        "layer_n = keras.layers.Dense(10, activation=tensorflow.nn.softmax)\n",
        "\n",
        "#Modelo com duas camadas\n",
        "modelo = keras.Sequential([layer_0, *layer_hidden, layer_n])\n",
        "\n",
        "\n",
        "modelo.compile(optimizer='adam', loss='sparse_categorical_crossentropy', metrics=['accuracy',])"
      ],
      "metadata": {
        "id": "8r5LZ4xI0Ypm"
      },
      "execution_count": null,
      "outputs": []
    },
    {
      "cell_type": "code",
      "source": [
        "modelo.summary()"
      ],
      "metadata": {
        "colab": {
          "base_uri": "https://localhost:8080/"
        },
        "id": "9AkA_3QPfVq8",
        "outputId": "1fa00597-a6b3-452a-e0b1-bd6db71ccf97"
      },
      "execution_count": null,
      "outputs": [
        {
          "output_type": "stream",
          "name": "stdout",
          "text": [
            "Model: \"sequential_2\"\n",
            "_________________________________________________________________\n",
            " Layer (type)                Output Shape              Param #   \n",
            "=================================================================\n",
            " flatten_2 (Flatten)         (None, 784)               0         \n",
            "                                                                 \n",
            " dense_8 (Dense)             (None, 16)                12560     \n",
            "                                                                 \n",
            " dense_9 (Dense)             (None, 32)                544       \n",
            "                                                                 \n",
            " dropout_2 (Dropout)         (None, 32)                0         \n",
            "                                                                 \n",
            " dense_10 (Dense)            (None, 16)                528       \n",
            "                                                                 \n",
            " dense_11 (Dense)            (None, 10)                170       \n",
            "                                                                 \n",
            "=================================================================\n",
            "Total params: 13,802\n",
            "Trainable params: 13,802\n",
            "Non-trainable params: 0\n",
            "_________________________________________________________________\n"
          ]
        }
      ]
    },
    {
      "cell_type": "code",
      "source": [
        "historico = modelo.fit(imagens_treino_modificada, id_treino, verbose=1, epochs=5, steps_per_epoch=3000, validation_split=0.2)"
      ],
      "metadata": {
        "colab": {
          "base_uri": "https://localhost:8080/"
        },
        "id": "6PgyjxSbFvNI",
        "outputId": "e47467ed-01de-4169-d156-fb9cd5db5beb"
      },
      "execution_count": null,
      "outputs": [
        {
          "output_type": "stream",
          "name": "stdout",
          "text": [
            "Epoch 1/5\n",
            "3000/3000 [==============================] - 7s 2ms/step - loss: 0.7051 - accuracy: 0.7454 - val_loss: 0.4698 - val_accuracy: 0.8328\n",
            "Epoch 2/5\n",
            "3000/3000 [==============================] - 6s 2ms/step - loss: 0.4830 - accuracy: 0.8276 - val_loss: 0.4499 - val_accuracy: 0.8374\n",
            "Epoch 3/5\n",
            "3000/3000 [==============================] - 7s 2ms/step - loss: 0.4435 - accuracy: 0.8456 - val_loss: 0.4315 - val_accuracy: 0.8461\n",
            "Epoch 4/5\n",
            "3000/3000 [==============================] - 6s 2ms/step - loss: 0.4224 - accuracy: 0.8508 - val_loss: 0.4157 - val_accuracy: 0.8499\n",
            "Epoch 5/5\n",
            "3000/3000 [==============================] - 6s 2ms/step - loss: 0.4088 - accuracy: 0.8545 - val_loss: 0.4028 - val_accuracy: 0.8584\n"
          ]
        }
      ]
    },
    {
      "cell_type": "markdown",
      "source": [
        "##Visualizando as acurácias de treino e validação por época"
      ],
      "metadata": {
        "id": "ZXrEFUF3eHtc"
      }
    },
    {
      "cell_type": "code",
      "source": [
        "plt.plot(historico.history['accuracy'])\n",
        "plt.plot(historico.history['val_accuracy'])\n",
        "plt.title(\"Acuracia por épocas\")\n",
        "plt.xlabel(\"Épocas\")\n",
        "plt.ylabel(\"Acuracia\")\n",
        "plt.legend([\"treino\",\"avaliação\"])"
      ],
      "metadata": {
        "colab": {
          "base_uri": "https://localhost:8080/",
          "height": 314
        },
        "id": "HzGXI-YgGDGW",
        "outputId": "fb10fee3-7e8d-4720-832e-07713a8901ee"
      },
      "execution_count": null,
      "outputs": [
        {
          "output_type": "execute_result",
          "data": {
            "text/plain": [
              "<matplotlib.legend.Legend at 0x7f51dce9cc10>"
            ]
          },
          "metadata": {},
          "execution_count": 29
        },
        {
          "output_type": "display_data",
          "data": {
            "text/plain": [
              "<Figure size 432x288 with 1 Axes>"
            ],
            "image/png": "[encoded data removed]"
          },
          "metadata": {
            "needs_background": "light"
          }
        }
      ]
    },
    {
      "cell_type": "markdown",
      "source": [
        "##Visualizando as perdas de treino e validação por época"
      ],
      "metadata": {
        "id": "b7E9uklleRS6"
      }
    },
    {
      "cell_type": "code",
      "source": [
        "plt.plot(historico.history['loss'])\n",
        "plt.plot(historico.history['val_loss'])\n",
        "plt.title(\"Perda por épocas\")\n",
        "plt.xlabel(\"Épocas\")\n",
        "plt.ylabel(\"Perda\")\n",
        "plt.legend([\"treino\",\"avaliação\"])"
      ],
      "metadata": {
        "colab": {
          "base_uri": "https://localhost:8080/",
          "height": 314
        },
        "id": "SwHXYpLRIpFo",
        "outputId": "eee2a4c0-fdd8-47b3-919d-5ca2a8f20c30"
      },
      "execution_count": null,
      "outputs": [
        {
          "output_type": "execute_result",
          "data": {
            "text/plain": [
              "<matplotlib.legend.Legend at 0x7f51dcddc5d0>"
            ]
          },
          "metadata": {},
          "execution_count": 30
        },
        {
          "output_type": "display_data",
          "data": {
            "text/plain": [
              "<Figure size 432x288 with 1 Axes>"
            ],
            "image/png": "[encoded data removed]"
          },
          "metadata": {
            "needs_background": "light"
          }
        }
      ]
    },
    {
      "cell_type": "markdown",
      "source": [
        "##Salvando e carregando o modelo treinado"
      ],
      "metadata": {
        "id": "qKxcBmvUd7pp"
      }
    },
    {
      "cell_type": "code",
      "source": [
        "modelo.save('modelo.h5')\n",
        "modelo_salvo = tensorflow.keras.models.load_model('modelo.h5')"
      ],
      "metadata": {
        "id": "Xv0TgGbZbEv-"
      },
      "execution_count": null,
      "outputs": []
    },
    {
      "cell_type": "markdown",
      "source": [
        "##Avaliando o modelo"
      ],
      "metadata": {
        "id": "EVPF4kHyeWV5"
      }
    },
    {
      "cell_type": "code",
      "source": [
        "perda_teste, acuracia_teste = modelo.evaluate(imagens_teste, id_teste, steps=50)"
      ],
      "metadata": {
        "colab": {
          "base_uri": "https://localhost:8080/"
        },
        "id": "wcHinVtOeXsI",
        "outputId": "de082ddc-8f3c-4fde-a0c7-17976ee5394a"
      },
      "execution_count": null,
      "outputs": [
        {
          "output_type": "stream",
          "name": "stdout",
          "text": [
            "50/50 [==============================] - 0s 3ms/step - loss: 69.7606 - accuracy: 0.8016\n"
          ]
        }
      ]
    },
    {
      "cell_type": "code",
      "source": [
        "perda_teste, acuracia_teste = modelo_salvo.evaluate(imagens_teste, id_teste, steps=50)"
      ],
      "metadata": {
        "colab": {
          "base_uri": "https://localhost:8080/"
        },
        "id": "aDcfZXJSbq34",
        "outputId": "0a1525ef-1f2c-45b3-fbb6-de8b4786bc54"
      },
      "execution_count": null,
      "outputs": [
        {
          "output_type": "stream",
          "name": "stdout",
          "text": [
            "50/50 [==============================] - 0s 2ms/step - loss: 69.7606 - accuracy: 0.8016\n"
          ]
        }
      ]
    }
  ]
}